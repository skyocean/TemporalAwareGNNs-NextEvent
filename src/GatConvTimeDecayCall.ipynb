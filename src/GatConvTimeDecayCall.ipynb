{
 "cells": [
  {
   "cell_type": "code",
   "execution_count": null,
   "id": "ad1f8002-864a-4cf0-847a-c0bad963c329",
   "metadata": {},
   "outputs": [],
   "source": [
    "%reload_ext autoreload\n",
    "%autoreload 2\n",
    "import pandas as pd\n",
    "import numpy as np\n",
    "import torch\n",
    "import torch.nn as nn\n",
    "from torch.utils.data import DataLoader \n",
    "from sklearn.model_selection import train_test_split\n",
    "from DataEncoder import encode_pad_event, encode_pad_sequence, scale_time_differences, scale_time_differences_fast_fixed, encode_label_event, node_time_list, length_stratified_split\n",
    "from GATConvTimeDecay import prepare_data_core, prepare_data_y, CustomDataset, normalize_attention_minmax, min_max_normalize, normalize_edge_scores\n",
    "from GATConvTimeDecay import EarlyStopping, train, evaluate, custom_collate_fn, TimeAwareGATConv, DualGATTimeAwareModel\n",
    "from GATConvTimeDecay import vectorized_find_longest, get_samples_in_node_range\n",
    "from GATConvTimeDecay import get_length_bins_from_attention, get_quantile_bins_from_attention, compute_importance_stats, plot_heatmap_from_stats, plot_rank_dominance, plot_importance_timeline, plot_critical_windows, generate_pairwise_ttest_table, get_top_significant_ranges, calculate_window_metrics, aggregate_metrics, plot_window_metrics\n",
    "from GATConvTimeDecay import predict, top_k_accuracy, predict_per_sequence, average_bleu_score, compute_dls_and_exact_match, sequence_level_top_k_accuracy, analyze_sequence_errors, predict_per_sequence_with_probs, sequence_level_top_k_analysis, show_error_sequences\n",
    "import os \n",
    "import shutil"
   ]
  },
  {
   "cell_type": "code",
   "execution_count": null,
   "id": "d9ca11d3-4dd7-4cbe-a91d-7ac790aa854b",
   "metadata": {},
   "outputs": [],
   "source": [
    "#event = pd.read_csv(\"../output/BPI12.csv\")\n",
    "event = pd.read_csv(\"../output/BPI12w.csv\")\n",
    "#event = pd.read_csv(\"../output/BPI13i.csv\")\n",
    "#event = pd.read_csv(\"../output/BPI13c.csv\")\n",
    "#event = pd.read_csv(\"../output/helpdesk.csv\")"
   ]
  },
  {
   "cell_type": "code",
   "execution_count": null,
   "id": "f02056c4-88de-4467-aad9-4d767742e04b",
   "metadata": {},
   "outputs": [],
   "source": [
    "# check the size of sequence\n",
    "shortest_sequence = event.groupby('sequence').size().min()\n",
    "longest_sequence = event.groupby('sequence').size().max()\n",
    "print('shortest_sequence:', shortest_sequence)\n",
    "print('longest_sequence:', longest_sequence)"
   ]
  },
  {
   "cell_type": "code",
   "execution_count": null,
   "id": "54305a87-1a5b-4cc1-ab1d-03482c392d27",
   "metadata": {},
   "outputs": [],
   "source": [
    "core_event = 'event'\n",
    "#core_event = 'event_label'\n",
    "case_index = 'sequence'\n",
    "event = event[event.groupby(case_index)[case_index].transform('size') >= 2].reset_index(drop=True)"
   ]
  },
  {
   "cell_type": "code",
   "execution_count": null,
   "id": "afe611b5-0f83-414b-8e59-e412a4e1d0ed",
   "metadata": {},
   "outputs": [],
   "source": [
    "core_encode, y_encode, core_size, output_size, le_event = encode_label_event(event, core_event, case_index)"
   ]
  },
  {
   "cell_type": "code",
   "execution_count": null,
   "id": "74cf2a41-dcda-4228-99de-fa9c7dcfea59",
   "metadata": {},
   "outputs": [],
   "source": [
    "#event['ec1'] = event['ec1'].astype(str) \n",
    "cat_col_event = ['ec1']\n",
    "num_col_event = []\n",
    "#Bpi13\n",
    "#cat_col_event = ['ec1', 'ec2', 'ec4', 'ec5']\n",
    "#num_col_seq = []\n",
    "#helpdesk\n",
    "#cat_col_event = ['ec1']\n",
    "#num_col_event = []\n",
    "event_encode = encode_pad_event(event, cat_col_event, num_col_event, case_index, cat_mask = True, num_mask = True, eos = False)"
   ]
  },
  {
   "cell_type": "code",
   "execution_count": null,
   "id": "46cfe00d-52e3-4ad2-82b5-c5f5dc39e60f",
   "metadata": {},
   "outputs": [],
   "source": [
    "sequence = event[['sequence','sn1']].groupby('sequence').first()\n",
    "#BPI13\n",
    "#sequence = event[['sequence','sc3', 'sc1', 'sc2']].groupby('sequence').first()\n",
    "#sequence = event[['sequence','sc1']].groupby('sequence').first()\n",
    "sequence = sequence.reset_index()"
   ]
  },
  {
   "cell_type": "code",
   "execution_count": null,
   "id": "645d6220-b167-4f29-a0e6-f3d6b5bc4140",
   "metadata": {},
   "outputs": [],
   "source": [
    "cat_col_seq = []\n",
    "num_col_seq = ['sn1']\n",
    "#BPI13\n",
    "#cat_col_seq = ['sc1','sc2','sc3']\n",
    "#num_col_seq = []\n",
    "#helpdesk\n",
    "#cat_col_seq = ['sc1']\n",
    "#num_col_seq = []\n",
    "sequence_encode = encode_pad_sequence(sequence, cat_col_seq, num_col_seq)"
   ]
  },
  {
   "cell_type": "code",
   "execution_count": null,
   "id": "2164d309-ff41-435d-9466-b1fdc3c36bdc",
   "metadata": {},
   "outputs": [],
   "source": [
    "start_time_col = 'time'\n",
    "scaled_time_diffs = scale_time_differences_fast_fixed(event, sequence, start_time_col, case_index)"
   ]
  },
  {
   "cell_type": "code",
   "execution_count": null,
   "id": "e00292d9-357c-428c-8802-490c500c2af8",
   "metadata": {},
   "outputs": [],
   "source": [
    "max_num_events = event_encode.shape[1]\n",
    "# Expand sequence features to match the shape of event features\n",
    "sequence_features_expanded = np.expand_dims(sequence_encode, axis=1)\n",
    "sequence_features_expanded = np.repeat(sequence_features_expanded, max_num_events, axis=1)\n",
    "\n",
    "# Combine event and sequence features\n",
    "combined_features = np.concatenate((event_encode, sequence_features_expanded), axis=2)"
   ]
  },
  {
   "cell_type": "code",
   "execution_count": null,
   "id": "758ea2d3-8997-428f-9dc2-bb33e6bf3d9f",
   "metadata": {},
   "outputs": [],
   "source": [
    "num_sequences = event_encode.shape[0]\n",
    "num_event_features = combined_features.shape[2]\n",
    "num_embedding_features = core_size"
   ]
  },
  {
   "cell_type": "code",
   "execution_count": null,
   "id": "7df009c3-76f7-42b9-a958-fbd8ef119cc3",
   "metadata": {},
   "outputs": [],
   "source": [
    "node_times = node_time_list(event, start_time_col, case_index)"
   ]
  },
  {
   "cell_type": "code",
   "execution_count": null,
   "id": "fcece4a5-3ea5-46ef-b43a-5ca453cb66ed",
   "metadata": {},
   "outputs": [],
   "source": [
    "event_feature_list = prepare_data_core(combined_features, core_encode, scaled_time_diffs, node_times)\n",
    "y_list = prepare_data_y(combined_features, y_encode)"
   ]
  },
  {
   "cell_type": "code",
   "execution_count": null,
   "id": "b78e7c3e-da50-4e89-b47c-2ff2364c7350",
   "metadata": {},
   "outputs": [],
   "source": [
    "# Use stratified sampling over sequence length to preserve distributional characteristics\n",
    "train_indices, test_indices = length_stratified_split(event_feature_list, test_size=0.2, n_bins=10)\n",
    "\n",
    "# Split the data\n",
    "train_event_features = [event_feature_list[i] for i in train_indices]\n",
    "test_event_features = [event_feature_list[i] for i in test_indices]\n",
    "train_y = [y_list[i] for i in train_indices]\n",
    "test_y = [y_list[i] for i in test_indices]\n",
    "\n",
    "# Print statistics\n",
    "train_lengths = [event_feature_list[i].x.shape[0] for i in train_indices]\n",
    "test_lengths = [event_feature_list[i].x.shape[0] for i in test_indices]\n",
    "\n",
    "print(f\"Train set: {len(train_indices)} samples\")\n",
    "print(f\"Train length range: {min(train_lengths)} - {max(train_lengths)}\")\n",
    "print(f\"Train length mean: {np.mean(train_lengths):.2f}\")\n",
    "\n",
    "print(f\"\\nTest set: {len(test_indices)} samples\") \n",
    "print(f\"Test length range: {min(test_lengths)} - {max(test_lengths)}\")\n",
    "print(f\"Test length mean: {np.mean(test_lengths):.2f}\")"
   ]
  },
  {
   "cell_type": "code",
   "execution_count": null,
   "id": "b38a45b3-26ae-485b-a4f1-62f564e00daa",
   "metadata": {},
   "outputs": [],
   "source": [
    "train_dataset = CustomDataset(train_event_features, train_y)\n",
    "test_dataset = CustomDataset(test_event_features, test_y)"
   ]
  },
  {
   "cell_type": "code",
   "execution_count": null,
   "id": "df869e30-e0c9-433a-a4d3-32592c2dcabe",
   "metadata": {},
   "outputs": [],
   "source": [
    "device = torch.device('cuda' if torch.cuda.is_available() else 'cpu')\n",
    "\n",
    "# parameters\n",
    "embedding_dims = 64\n",
    "gat_hidden_dim_event = 32\n",
    "gat_hidden_dim_embed = 128\n",
    "gat_hidden_dim_concat = 256\n",
    "output_dim = output_size  # vocab size\n",
    "num_heads = 4\n",
    "lambda_decay = 0.01\n",
    "\n",
    "model = DualGATTimeAwareModel(\n",
    "    num_event_features=num_event_features,\n",
    "    num_embedding_features=num_embedding_features,\n",
    "    embedding_dims=embedding_dims,\n",
    "    gat_hidden_dim_event=gat_hidden_dim_event,\n",
    "    gat_hidden_dim_embed=gat_hidden_dim_embed,\n",
    "    gat_hidden_dim_concat=gat_hidden_dim_concat,\n",
    "    output_dim=output_dim,\n",
    "    num_heads=num_heads,\n",
    "    lambda_decay = lambda_decay\n",
    ").to(device)\n",
    "\n",
    "optimizer = torch.optim.Adam(model.parameters(), lr=0.001, weight_decay=1e-5)\n",
    "#criterion = nn.CrossEntropyLoss(ignore_index=-1, label_smoothing=0.1)  # ignore padding\n",
    "criterion = nn.CrossEntropyLoss(ignore_index=-1) "
   ]
  },
  {
   "cell_type": "code",
   "execution_count": null,
   "id": "6c648011-a050-4433-8785-bb4b78abee91",
   "metadata": {},
   "outputs": [],
   "source": [
    "batch_size = 16  \n",
    "train_loader = DataLoader(train_dataset, batch_size=batch_size, shuffle=True, collate_fn=custom_collate_fn)\n",
    "test_loader = DataLoader(test_dataset, batch_size=batch_size, shuffle=False, collate_fn=custom_collate_fn)"
   ]
  },
  {
   "cell_type": "code",
   "execution_count": null,
   "id": "6e4dbbc1-c094-4ad9-9f2b-7becff6c586f",
   "metadata": {},
   "outputs": [],
   "source": [
    "num_epochs = 10\n",
    "\n",
    "# Filepath to save model\n",
    "model_path = \"../output/models/1.pt\"\n",
    "\n",
    "config = {\n",
    "    'num_event_features': num_event_features,\n",
    "    'num_embedding_features': num_embedding_features,\n",
    "    'embedding_dims': embedding_dims,\n",
    "    'gat_hidden_dim_event': gat_hidden_dim_event,\n",
    "    'gat_hidden_dim_embed': gat_hidden_dim_embed,\n",
    "    'gat_hidden_dim_concat': gat_hidden_dim_concat,\n",
    "    'output_dim': output_dim,\n",
    "    'num_heads': num_heads,\n",
    "    'lambda_decay': lambda_decay\n",
    "}\n",
    "\n",
    "early_stopping = EarlyStopping(patience=3, delta=0.0)\n",
    "\n",
    "for epoch in range(num_epochs):\n",
    "    train_loss, train_acc = train(model, train_loader, optimizer, criterion, device)\n",
    "    test_loss, test_acc, attention_data = evaluate(model, test_loader, criterion, device, return_attention=True)\n",
    "\n",
    "    print(f\"Epoch {epoch+1}/{num_epochs} | Train Loss: {train_loss:.4f} Acc: {train_acc:.4f} | Test Loss: {test_loss:.4f} Acc: {test_acc:.4f}\")\n",
    "\n",
    "    if early_stopping(test_loss):\n",
    "        print(\"Early stopping triggered.\")\n",
    "        break\n",
    "\n",
    "    if early_stopping.best_loss_updated:\n",
    "        print(f\"New best model at epoch {epoch+1}, saving to {model_path}\")\n",
    "        best_model_saved = True\n",
    "         # Save state dict and config\n",
    "        torch.save({\n",
    "            'epoch': epoch,\n",
    "            'model_state_dict': model.state_dict(),\n",
    "            'optimizer_state_dict': optimizer.state_dict(),\n",
    "            'train_loss': train_loss,\n",
    "            'train_acc': train_acc,\n",
    "            'test_loss': test_loss,\n",
    "            'test_acc': test_acc,\n",
    "            'config': config,\n",
    "            'attention_data': attention_data\n",
    "        }, model_path)\n",
    "        \n",
    "if not early_stopping.early_stop and not best_model_saved:\n",
    "        print(\"Training completed without early stopping. Saving final model.\")\n",
    "        torch.save({\n",
    "            'epoch': epoch,\n",
    "            'model_state_dict': model.state_dict(),\n",
    "            'optimizer_state_dict': optimizer.state_dict(),\n",
    "            'train_loss': train_loss,\n",
    "            'train_acc': train_acc,\n",
    "            'test_loss': test_loss,\n",
    "            'test_acc': test_acc,\n",
    "            'config': config,\n",
    "            'attention_data': attention_data\n",
    "        }, model_path)\n"
   ]
  },
  {
   "cell_type": "code",
   "execution_count": null,
   "id": "2eee6b29-0478-4f96-b581-3e7b12b58115",
   "metadata": {},
   "outputs": [],
   "source": [
    "checkpoint = torch.load(\"../output/models/1.pt\", map_location=device)\n",
    "attention_data = checkpoint['attention_data']"
   ]
  },
  {
   "cell_type": "code",
   "execution_count": null,
   "id": "f9087e98-fd82-4a40-8313-40e06a8b56ae",
   "metadata": {},
   "outputs": [],
   "source": [
    "length_bins, bin_bf = get_length_bins_from_attention(attention_data, bin_size=5, max_len=None, \n",
    "                                                     save_path = \"../output/statis/BPI12w_timedgedecay_bins.csv\")\n",
    "#length_bins = get_quantile_bins_from_attention(attention_data, num_bins=10)\n",
    "range_stats, range_importances, topnode_df = compute_importance_stats(attention_data, length_bins, save_path = \"../output/statis/BPI12w_timedgedecay_topnode.csv\")"
   ]
  },
  {
   "cell_type": "code",
   "execution_count": null,
   "id": "52c50281-2040-40e2-a0be-06093f4af2c1",
   "metadata": {
    "scrolled": true
   },
   "outputs": [],
   "source": [
    "# Step 2: Generate heatmap from the same data\n",
    "plot_heatmap_from_stats(range_stats, range_importances, \"../output/picts/BPI12w_timedgedecay_heatmap\")"
   ]
  },
  {
   "cell_type": "code",
   "execution_count": null,
   "id": "8470f16e-2a8a-4ff1-8f0b-3acd8700d4f4",
   "metadata": {},
   "outputs": [],
   "source": [
    "plot_rank_dominance(range_stats, \n",
    "                    title=\"Top Node Dominance by Rank and Length Range\", \n",
    "                    save_path=\"../output/picts/BPI12w_timeedgedecay_noderankbar\")"
   ]
  },
  {
   "cell_type": "code",
   "execution_count": null,
   "id": "ee1dc00d-fec4-4f7c-80c9-bc37e3ec58ff",
   "metadata": {},
   "outputs": [],
   "source": [
    "plot_importance_timeline(attention_data, min_length=2, max_length=10, figsize=(20, 4),\n",
    "                        save_path=\"../output/picts/BPI12w_timedgedecay_sampletimeline\")"
   ]
  },
  {
   "cell_type": "code",
   "execution_count": null,
   "id": "ffa0e4fe-6088-469e-9551-5d1794c0f174",
   "metadata": {},
   "outputs": [],
   "source": [
    "window_stats = plot_critical_windows(attention_data, length_bins, figsize=(12, 6), \n",
    "                                     compare_ranges=None, alpha=0.05, \n",
    "                                     save_path=\"../output/picts/BPI12w_timedgedecay_criticwin_nocomp\")\n",
    "window_stats.to_csv(\"../output/statis/BPI12w_timedgedecay_criticwindows.csv\", index=False)"
   ]
  },
  {
   "cell_type": "code",
   "execution_count": null,
   "id": "534cb873-6213-4ce0-86ea-38822a330acc",
   "metadata": {
    "scrolled": true
   },
   "outputs": [],
   "source": [
    "pairwise_table = generate_pairwise_ttest_table(window_stats, length_bins, alpha=0.05)\n",
    "top_significant, top_comparison_tuples = get_top_significant_ranges(pairwise_table, num_top=10)"
   ]
  },
  {
   "cell_type": "code",
   "execution_count": null,
   "id": "e04f6633-26aa-4eea-9df7-32495fa927a8",
   "metadata": {},
   "outputs": [],
   "source": [
    "top_significant"
   ]
  },
  {
   "cell_type": "code",
   "execution_count": null,
   "id": "fa521a5c-763b-4827-8008-ac8b509d0b2c",
   "metadata": {},
   "outputs": [],
   "source": [
    "top_significant.to_csv(\"../output/statis/BPI12w_timedgedecay_rangediff.csv\", index=False)"
   ]
  },
  {
   "cell_type": "code",
   "execution_count": null,
   "id": "209f44cb-bb00-4b0f-8d77-2582342d2dd5",
   "metadata": {},
   "outputs": [],
   "source": [
    "# Plot with significance markers\n",
    "_ = plot_critical_windows(\n",
    "        attention_data,\n",
    "        length_bins,\n",
    "        compare_ranges=top_comparison_tuples,\n",
    "        figsize=(14,7),\n",
    "        alpha=0.05, \n",
    "        save_path=\"../output/picts/BPI12w_timedgedecay_criticwin_comp\")"
   ]
  },
  {
   "cell_type": "code",
   "execution_count": null,
   "id": "c0e9717d-5c43-4b6f-82ef-385bf1f5901d",
   "metadata": {},
   "outputs": [],
   "source": [
    "# Step 1: Calculate metrics\n",
    "df_metrics = calculate_window_metrics(attention_data, length_bins)\n",
    "\n",
    "# Step 2: Generate statistics table\n",
    "stats_table = aggregate_metrics(df_metrics)\n",
    "\n",
    "\n",
    "stats_table.columns = ['_'.join(col).strip() for col in stats_table.columns.values]\n",
    "stats_table.to_csv(\"../output/statis/BPI12w_timedgedecay_attentionstatis.csv\", index='Length Range')\n",
    "\n",
    "stats_table"
   ]
  },
  {
   "cell_type": "code",
   "execution_count": null,
   "id": "84ad7381-d3a4-4f5e-8e37-19f9e7ee3193",
   "metadata": {},
   "outputs": [],
   "source": [
    "plot_window_metrics(df_metrics,\n",
    "                   figsize=(20, 7), \n",
    "                   save_path=\"../output/picts/BPI12w_timedgedecay_attentionstatis\")"
   ]
  },
  {
   "cell_type": "code",
   "execution_count": null,
   "id": "b2ba8fd7-9500-4351-bc3c-aa734fdc3b61",
   "metadata": {},
   "outputs": [],
   "source": [
    "preds, labels, outs = predict(model, test_loader, device)\n",
    "\n",
    "# Check some predictions\n",
    "for i in range(10):\n",
    "    print(f\"Predicted: {preds[i].item()} | Actual: {labels[i].item()}\")"
   ]
  },
  {
   "cell_type": "code",
   "execution_count": null,
   "id": "6f9c98a2-1e28-433d-b905-a130111a347f",
   "metadata": {},
   "outputs": [],
   "source": [
    "top1 = top_k_accuracy(outs, labels, k=1)\n",
    "top3 = top_k_accuracy(outs, labels, k=3)\n",
    "top5 = top_k_accuracy(outs, labels, k=5)\n",
    "\n",
    "print(f\"Top-1 Acc: {top1:.4f} | Top-3 Acc: {top3:.4f} | Top-5 Acc: {top5:.4f}\")"
   ]
  },
  {
   "cell_type": "code",
   "execution_count": null,
   "id": "e118dd11-554f-47d1-a68b-9aa7ce3a8cb0",
   "metadata": {},
   "outputs": [],
   "source": [
    "preds_seq, labels_seq = predict_per_sequence(model, test_loader, device)"
   ]
  },
  {
   "cell_type": "code",
   "execution_count": null,
   "id": "0a63ddfe-43ca-429a-a7ce-1bb0b638369a",
   "metadata": {},
   "outputs": [],
   "source": [
    "bleu = average_bleu_score(preds_seq, labels_seq)\n",
    "print(f\"Average BLEU Score: {bleu:.4f}\")"
   ]
  },
  {
   "cell_type": "code",
   "execution_count": null,
   "id": "b6442a81-ed64-4a05-8fa1-1a38f40c27c2",
   "metadata": {},
   "outputs": [],
   "source": [
    "avg_dls, exact_acc = compute_dls_and_exact_match(preds_seq, labels_seq)\n",
    "print(f\"Damerau-Levenshtein Similarity (avg): {avg_dls:.4f}\")\n",
    "print(f\"Exact Match Accuracy: {exact_acc:.4f}\")"
   ]
  },
  {
   "cell_type": "code",
   "execution_count": null,
   "id": "3a0a250f-e04f-43dd-96e3-f929c2eda34e",
   "metadata": {},
   "outputs": [],
   "source": [
    "# Usage\n",
    "seq_top3_acc = sequence_level_top_k_accuracy(model, test_loader, device, k=3)\n",
    "print(f\"Sequence-Level Top-3 Accuracy: {seq_top3_acc:.4f}\")\n",
    "seq_top5_acc = sequence_level_top_k_accuracy(model, test_loader, device, k=5)\n",
    "print(f\"Sequence-Level Top-5 Accuracy: {seq_top5_acc:.4f}\")"
   ]
  },
  {
   "cell_type": "code",
   "execution_count": null,
   "id": "49b8499f-f11e-4ed0-9141-01934b36a4ae",
   "metadata": {},
   "outputs": [],
   "source": [
    "# Usage example\n",
    "pos_errors, error_types, seq_stats = analyze_sequence_errors(model, test_loader, device, k=3)"
   ]
  },
  {
   "cell_type": "code",
   "execution_count": null,
   "id": "9440d992-7113-406e-810a-be9a4ec5a5c3",
   "metadata": {},
   "outputs": [],
   "source": [
    "# First get predictions with probabilities\n",
    "all_preds, all_labels, all_topk = predict_per_sequence_with_probs(model, test_loader, device, k=3)\n",
    "\n",
    "# Then analyze sequence-level top-k accuracy\n",
    "topk_acc, error_stats = sequence_level_top_k_analysis(all_topk, all_labels)\n",
    "\n",
    "print(f\"Sequence-Level Top-3 Accuracy: {topk_acc:.4f}\")\n",
    "print(\"\\nError Analysis:\")\n",
    "print(f\"- Most error-prone positions: {error_stats['position_errors']}\")\n",
    "print(f\"- Top prediction mistakes: {error_stats['top_errors']}\")"
   ]
  },
  {
   "cell_type": "code",
   "execution_count": null,
   "id": "5ecbcb8e-fd1d-471e-af85-f5db59e3e477",
   "metadata": {},
   "outputs": [],
   "source": [
    "show_error_sequences(all_topk, all_labels, num=3)"
   ]
  },
  {
   "cell_type": "code",
   "execution_count": null,
   "id": "5a4a6f70-f9de-40b3-a037-a5b571a23207",
   "metadata": {},
   "outputs": [],
   "source": [
    "from sklearn.metrics import classification_report\n",
    "unique_true = np.unique(labels.cpu().numpy())\n",
    "unique_preds = np.unique(preds.cpu().numpy())\n",
    "\n",
    "print(\"Classes in true labels:\", unique_true)\n",
    "print(\"Classes in predictions:\", unique_preds)\n",
    "print(\"Missing classes:\", set(unique_true) - set(unique_preds))\n",
    "\n",
    "actual_classes = np.union1d(unique_true, unique_preds)\n",
    "report = classification_report(\n",
    "    labels.cpu().numpy(),\n",
    "    preds.cpu().numpy(),\n",
    "    target_names=[f\"Class_{i}\" for i in actual_classes] ,\n",
    "    digits=4\n",
    ")\n",
    "print(report)"
   ]
  },
  {
   "cell_type": "code",
   "execution_count": null,
   "id": "04866b94-34bb-4aa6-a0d3-1202682f1026",
   "metadata": {},
   "outputs": [],
   "source": [
    "# Load model state\n",
    "checkpoint = torch.load(model_path, map_location=device)\n",
    "config = checkpoint['config']\n",
    "\n",
    "# Rebuild the model using the same config\n",
    "model = DualGATTimeAwareModel(\n",
    "    num_event_features=config['num_event_features'],\n",
    "    num_embedding_features=config['num_embedding_features'],\n",
    "    embedding_dims=config['embedding_dims'],\n",
    "    gat_hidden_dim_event=config['gat_hidden_dim_event'],\n",
    "    gat_hidden_dim_embed=config['gat_hidden_dim_embed'],\n",
    "    gat_hidden_dim_concat=config['gat_hidden_dim_concat'],\n",
    "    output_dim=config['output_dim'],\n",
    "    num_heads=config['num_heads'],\n",
    "    lambda_decay=config['lambda_decay']\n",
    ")\n",
    "\n",
    "model.load_state_dict(checkpoint['model_state_dict'])\n",
    "model.to(device)\n",
    "\n",
    "# Rebuild optimizer (if needed)\n",
    "optimizer = torch.optim.Adam(model.parameters())\n",
    "optimizer.load_state_dict(checkpoint['optimizer_state_dict'])\n",
    "\n",
    "# Recover attention and event IDs\n",
    "start_epoch = checkpoint['epoch'] + 1 \n",
    "attention_data = checkpoint['attention_data']\n",
    "\n",
    "for epoch in range(start_epoch, 20):\n",
    "    train_loss, train_acc = train(model, train_loader, optimizer, criterion, device)\n",
    "    test_loss, test_acc, attention_data = evaluate(model, test_loader, criterion, device, return_attention=True)\n",
    "\n",
    "    print(f\"Epoch {epoch+1}/{num_epochs} | Train Loss: {train_loss:.4f} Acc: {train_acc:.4f} | Test Loss: {test_loss:.4f} Acc: {test_acc:.4f}\")\n",
    "\n",
    "    if early_stopping(test_loss):\n",
    "        print(\"Early stopping triggered.\")\n",
    "        break\n",
    "\n",
    "    if early_stopping.best_loss_updated:\n",
    "        print(f\"New best model at epoch {epoch+1}, saving to {model_path}\")\n",
    "        best_model_saved = True\n",
    "         # Save state dict and config\n",
    "        torch.save({\n",
    "            'epoch': epoch,\n",
    "            'model_state_dict': model.state_dict(),\n",
    "            'optimizer_state_dict': optimizer.state_dict(),\n",
    "            'train_loss': train_loss,\n",
    "            'train_acc': train_acc,\n",
    "            'test_loss': test_loss,\n",
    "            'test_acc': test_acc,\n",
    "            'config': config,\n",
    "            'attention_data': attention_data\n",
    "        }, model_path)"
   ]
  }
 ],
 "metadata": {
  "kernelspec": {
   "display_name": "Python 3 (ipykernel)",
   "language": "python",
   "name": "python3"
  },
  "language_info": {
   "codemirror_mode": {
    "name": "ipython",
    "version": 3
   },
   "file_extension": ".py",
   "mimetype": "text/x-python",
   "name": "python",
   "nbconvert_exporter": "python",
   "pygments_lexer": "ipython3",
   "version": "3.11.9"
  }
 },
 "nbformat": 4,
 "nbformat_minor": 5
}
