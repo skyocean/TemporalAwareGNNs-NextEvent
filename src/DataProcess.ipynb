{
 "cells": [
  {
   "cell_type": "code",
   "execution_count": null,
   "id": "634ce3b2-cb57-4aee-a3bc-e2ee41dac45f",
   "metadata": {},
   "outputs": [],
   "source": [
    "import os\n",
    "import string\n",
    "import pandas as pd\n",
    "import numpy as np\n",
    "import datetime\n",
    "# set printing all columns\n",
    "pd.set_option('display.max_columns', None)"
   ]
  },
  {
   "cell_type": "code",
   "execution_count": null,
   "id": "388405b2-5ac7-45e1-9fd6-f3cc92b0f439",
   "metadata": {},
   "outputs": [],
   "source": [
    "BPI12_dt = pd.read_csv(\"../data/BPI_Challenge_2012.csv\")"
   ]
  },
  {
   "cell_type": "code",
   "execution_count": null,
   "id": "6760662d-a1ec-4ec2-8707-55b753ab57e8",
   "metadata": {},
   "outputs": [],
   "source": [
    "# First change NAN to preseve the orginal NAN as categorial in org:rescource\n",
    "BPI12_dt = BPI12_dt.fillna('N')"
   ]
  },
  {
   "cell_type": "code",
   "execution_count": null,
   "id": "8e108c61-9695-4a5c-812f-2526f4d93700",
   "metadata": {},
   "outputs": [],
   "source": [
    "# Sort by case and time to ensure the starts come before completes for the same event\n",
    "BPI12_dt.sort_values(by=['case:concept:name', 'time:timestamp'], inplace=True)"
   ]
  },
  {
   "cell_type": "code",
   "execution_count": null,
   "id": "4709ea7a-5550-44bd-93da-fbbdf66a9df2",
   "metadata": {},
   "outputs": [],
   "source": [
    "# for BPI12 set Transform case:AMOUNT_REQ to integer \n",
    "if not BPI12_dt['case:AMOUNT_REQ'].isnull().any():\n",
    "    BPI12_dt['case:AMOUNT_REQ'] = BPI12_dt['case:AMOUNT_REQ'].astype(int)"
   ]
  },
  {
   "cell_type": "code",
   "execution_count": null,
   "id": "53ec19e0-b7a0-4db9-87ac-1643d138e2aa",
   "metadata": {},
   "outputs": [],
   "source": [
    "# Drop repeated rows and reset index\n",
    "BPI12_dt = BPI12_dt.drop_duplicates().reset_index(drop=True)"
   ]
  },
  {
   "cell_type": "code",
   "execution_count": null,
   "id": "cb3fe02f-b05c-423e-95ef-78a46bc63ae5",
   "metadata": {},
   "outputs": [],
   "source": [
    "BPI12_dt.head()"
   ]
  },
  {
   "cell_type": "code",
   "execution_count": null,
   "id": "f9018734-5bde-4dd3-8e45-85fc4e27e7b0",
   "metadata": {},
   "outputs": [],
   "source": [
    "# BPI12 set. Rename original concept:name and split for different set\n",
    "BPI12_dt.rename(columns={'concept:name': 'full_concept:name'}, inplace=True)\n",
    "BPI12_dt[['pre_concept:name', 'concept:name']] = BPI12_dt['full_concept:name'].str.split('_', n=1, expand=True)"
   ]
  },
  {
   "cell_type": "code",
   "execution_count": null,
   "id": "4e8df9c0-b695-4b6d-a52a-ea303ab8f2bf",
   "metadata": {},
   "outputs": [],
   "source": [
    "def generate_labels(n):\n",
    "    from itertools import product\n",
    "    import string\n",
    "\n",
    "    chars = string.ascii_uppercase\n",
    "    # 1-letter + 2-letter combos (up to 702 labels)\n",
    "    labels = list(chars) + [''.join(p) for p in product(chars, repeat=2)]\n",
    "    if n > len(labels):\n",
    "        raise ValueError(\"Too many activities. Extend to 3-letter if needed.\")\n",
    "    return labels[:n]\n",
    "\n",
    "activities = sorted(BPI12_dt['full_concept:name'].unique())\n",
    "labels = generate_labels(len(activities))\n",
    "activity_mapping = dict(zip(activities, labels))\n",
    "# Apply the mappings to create the new columns in 'bpi12_dt'\n",
    "BPI12_dt['event_label'] = BPI12_dt['full_concept:name'].map(activity_mapping)"
   ]
  },
  {
   "cell_type": "code",
   "execution_count": null,
   "id": "0ad39091-8d7c-4009-9465-da98c88be461",
   "metadata": {},
   "outputs": [],
   "source": [
    "BPI12_dt['time:timestamp'] = pd.to_datetime(BPI12_dt['time:timestamp'], format='ISO8601').dt.strftime('%Y-%m-%d %H:%M:%S')\n",
    "BPI12_dt.rename(columns={\"time:timestamp\": \"time\",\n",
    "                         \"case:concept:name\": \"sequence\"}, \n",
    "                inplace=True)"
   ]
  },
  {
   "cell_type": "code",
   "execution_count": null,
   "id": "b3b2b19c-c81e-4109-ab90-dbbe174feeaa",
   "metadata": {},
   "outputs": [],
   "source": [
    "transitions = list(np.sort(BPI12_dt['lifecycle:transition'].unique()))\n",
    "cycle_mapping = {transition: letter for transition, letter in zip(transitions, string.ascii_lowercase)}"
   ]
  },
  {
   "cell_type": "code",
   "execution_count": null,
   "id": "d5310910-76d7-4f14-96b3-43c2998b4b41",
   "metadata": {},
   "outputs": [],
   "source": [
    "BPI12_dt['status'] = BPI12_dt['lifecycle:transition'].map(cycle_mapping)"
   ]
  },
  {
   "cell_type": "code",
   "execution_count": null,
   "id": "67172722-54d6-4866-a198-a8729301f767",
   "metadata": {},
   "outputs": [],
   "source": [
    "BPI12_dt['event'] = BPI12_dt['event_label'] + BPI12_dt['status']"
   ]
  },
  {
   "cell_type": "code",
   "execution_count": null,
   "id": "4d6f7dc9-83e2-4f93-bfff-33c7e50084a3",
   "metadata": {},
   "outputs": [],
   "source": [
    "#BPI12set\n",
    "BPI12_dt = BPI12_dt.drop(columns = ['lifecycle:transition', \"concept:name\", 'pre_concept:name','full_concept:name', \"case:REG_DATE\"])"
   ]
  },
  {
   "cell_type": "code",
   "execution_count": null,
   "id": "0acee755-b01e-4dd6-9fc8-31dab9bad2ac",
   "metadata": {},
   "outputs": [],
   "source": [
    "# Columns to exclude from checking\n",
    "exclude_cols = [\"status\", 'event', 'sequence', 'time', 'event_label']  \n",
    "\n",
    "# Identify columns to drop, excluding specified ones\n",
    "columns_to_drop = [col for col in BPI12_dt.columns if col not in exclude_cols and BPI12_dt[col].nunique() == 1]\n",
    "\n",
    "# Drop those columns\n",
    "BPI12_dt.drop(columns=columns_to_drop, inplace=True)"
   ]
  },
  {
   "cell_type": "code",
   "execution_count": null,
   "id": "93070569-acc7-4e59-9896-9dbd49e572a3",
   "metadata": {},
   "outputs": [],
   "source": [
    "def classify_and_rename(df, sequence_col, event_col, ex_col, unique_threshold = 10, manual_override = None):\n",
    "    \"\"\"\n",
    "    Classifies attributes as sequence-level or event-level, detects categorical vs. numerical data, and renames columns.\n",
    "\n",
    "    Parameters:\n",
    "    - df (pd.DataFrame): The input DataFrame.\n",
    "    - sequence_col (str): The column representing the sequence identifier.\n",
    "    - event_col (str): The column representing the event identifier.\n",
    "    - ex_col(list): The column representing the non atrribute columns.\n",
    "    - unique_threshold (int, optional): Max unique values for numeric attributes to be considered categorical.\n",
    "    - manual_override (list, optional): User-defined category overrides [col_name].\n",
    "\n",
    "    Returns:\n",
    "    - pd.DataFrame: DataFrame with renamed columns.\n",
    "    - dict: Mapping of old column names to new ones.\n",
    "    \"\"\"\n",
    "\n",
    "    # Exclude sequence & event columns from classification\n",
    "    attribute_cols = [col for col in df.columns if col not in [sequence_col, event_col] + ex_col]\n",
    "\n",
    "    sequence_level, event_level = [], []\n",
    "\n",
    "    # Identify Sequence-Level vs. Event-Level\n",
    "    for col in attribute_cols:\n",
    "        if df.groupby(sequence_col)[col].nunique().max() == 1:\n",
    "            sequence_level.append(col)\n",
    "        else:\n",
    "            event_level.append(col)\n",
    "\n",
    "    def detect_categorical(columns):\n",
    "        categorical, numerical = [], []\n",
    "        for col in columns:\n",
    "            if df[col].dtype == \"object\":\n",
    "                categorical.append(col)\n",
    "            elif df[col].dtype in [\"int64\", \"float64\", 'int32','float32']:\n",
    "                if df[col].nunique() <= unique_threshold:\n",
    "                    categorical.append(col)\n",
    "                else:\n",
    "                    numerical.append(col)\n",
    "        return categorical, numerical\n",
    "\n",
    "    # Auto-Detect Categorical vs. Numerical\n",
    "    sequence_categorical, sequence_numerical = detect_categorical(sequence_level)\n",
    "    event_categorical, event_numerical = detect_categorical(event_level)\n",
    "\n",
    "    # Manual Override (if provided)\n",
    "    if manual_override:\n",
    "        for col in manual_override:\n",
    "            if col in sequence_numerical:\n",
    "                sequence_categorical.append(col)\n",
    "                sequence_numerical.remove(col) \n",
    "            elif col in event_numerical:\n",
    "                event_categorical.append(col)\n",
    "                event_numerical.remove(col)\n",
    "                \n",
    "    print(\"Sequence-level attributes:\", sequence_level)\n",
    "    print(\"Event-level attributes:\", event_level)\n",
    "\n",
    "    # Step 4: Rename Columns\n",
    "    new_column_names = {}\n",
    "\n",
    "    for i, col in enumerate(sequence_categorical, start=1):\n",
    "        new_column_names[col] = f\"sc{i}\"\n",
    "    for i, col in enumerate(sequence_numerical, start=1):\n",
    "        new_column_names[col] = f\"sn{i}\"\n",
    "    for i, col in enumerate(event_categorical, start=1):\n",
    "        new_column_names[col] = f\"ec{i}\"\n",
    "    for i, col in enumerate(event_numerical, start=1):\n",
    "        new_column_names[col] = f\"en{i}\"\n",
    "\n",
    "    # Apply renaming\n",
    "    df.rename(columns=new_column_names, inplace=True)\n",
    "\n",
    "    return df, new_column_names\n"
   ]
  },
  {
   "cell_type": "code",
   "execution_count": null,
   "id": "d1f14834-dd78-4180-9bb3-9e39a6de81eb",
   "metadata": {},
   "outputs": [],
   "source": [
    "BPI12, renamed_columns = classify_and_rename(BPI12_dt, \n",
    "                                          sequence_col = \"sequence\", \n",
    "                                          event_col = \"event\", \n",
    "                                          ex_col = ['time', 'event_label', 'status'] #, \n",
    "                                          #manual_override = ['case:variant-index']\n",
    "                                         )\n",
    "\n",
    "print(\"Renamed Columns:\", renamed_columns)"
   ]
  },
  {
   "cell_type": "code",
   "execution_count": null,
   "id": "0655f66f-9ca8-401a-a649-973634458dfc",
   "metadata": {},
   "outputs": [],
   "source": [
    "BPI12"
   ]
  },
  {
   "cell_type": "code",
   "execution_count": null,
   "id": "ecbcc654-176a-48bf-93ea-eb09b7e72aa2",
   "metadata": {},
   "outputs": [],
   "source": []
  }
 ],
 "metadata": {
  "kernelspec": {
   "display_name": "Python 3 (ipykernel)",
   "language": "python",
   "name": "python3"
  },
  "language_info": {
   "codemirror_mode": {
    "name": "ipython",
    "version": 3
   },
   "file_extension": ".py",
   "mimetype": "text/x-python",
   "name": "python",
   "nbconvert_exporter": "python",
   "pygments_lexer": "ipython3",
   "version": "3.11.9"
  }
 },
 "nbformat": 4,
 "nbformat_minor": 5
}
